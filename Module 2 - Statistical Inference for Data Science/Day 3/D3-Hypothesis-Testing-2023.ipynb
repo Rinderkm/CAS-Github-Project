{
 "cells": [
  {
   "cell_type": "markdown",
   "metadata": {
    "id": "ASHl3RaZECkV"
   },
   "source": [
    "Notebook 4, Module 2, Statistical Inference for Data Science, CAS Applied Data Science, 2023-08-31, A. Mühlemann, University of Bern.\n",
    "\n",
    "*This notebook is based on the notebook by S. Haug and G. Conti from 2020*"
   ]
  },
  {
   "cell_type": "markdown",
   "metadata": {
    "id": "JUeyQayYECkY"
   },
   "source": [
    "## 4. Hypothesis Testing\n",
    "\n",
    "Practice various tests with the Python scipy stats module.\n",
    "\n",
    "**Average expected study time :** 3x45 min (depending on your background)\n",
    "\n",
    "**Learning outcomes :**\n",
    "\n",
    "- Know the hypothesis testing vocabulary\n",
    "- Can check normality based on Q-Q-Plots\n",
    "- Can perform normality tests of samples (Agostino-Pearson test, Shapiro-Wilk)\n",
    "- Can perform t-Test on a single sample (testing against a given mean, gaussian)\n",
    "- Can perform a Wilcoxon on a single sample (testing against a given median, not gaussian, only symmetric assumption)\n",
    "- Can comparing two groups of data, e.g. treated and control, know which tests are suited for which cases\n",
    "- Can perform some ANOVA tests\n",
    "\n",
    "**Bonus skills**\n",
    "- More Python tricks\n",
    "- Get to know the Python stats module better: https://docs.scipy.org/doc/scipy/reference/stats.html\n",
    "\n",
    "**Literature examples**\n",
    "\n",
    "- https://en.wikipedia.org/wiki/Statistical_hypothesis_testing\n",
    "- http://greenteapress.com/wp/think-stats-2e/ (online book covering most of the CAS Module 2)\n",
    "\n",
    "- For life sciences (bioinformatics) for example\n",
    "https://cran.r-project.org/doc/contrib/Krijnen-IntroBioInfStatistics.pdf\n",
    "- (Particle) Physics\n",
    "http://pdg.lbl.gov/2018/reviews/rpp2018-rev-statistics.pdf\n"
   ]
  },
  {
   "cell_type": "code",
   "execution_count": 43,
   "metadata": {
    "executionInfo": {
     "elapsed": 2836,
     "status": "ok",
     "timestamp": 1693132006754,
     "user": {
      "displayName": "Anja Mühlemann",
      "userId": "13180139022750424409"
     },
     "user_tz": -120
    },
    "id": "9hFY4XtvECkZ"
   },
   "outputs": [],
   "source": [
    "#!pip install seaborn --upgrade scipy\n",
    "import numpy as np\n",
    "import matplotlib.pyplot as plt\n",
    "import pandas as pd\n",
    "import statsmodels.api as sm\n",
    "from scipy import stats"
   ]
  },
  {
   "cell_type": "markdown",
   "metadata": {
    "id": "cL5xkyEUECkb"
   },
   "source": [
    "## 4.1 Summary of the main points"
   ]
  },
  {
   "cell_type": "markdown",
   "metadata": {
    "id": "6GGLvYXzECkc"
   },
   "source": [
    "The hypothesis being tested is called the *null hypothesis*. When doing a statistical test, the test statistic of a sample is calculated and and then we check how probable this value is given the null hypothesis. To this end, we look a the p-value.\n",
    "\n",
    "More precisely, the p-value is the probability of obtaining such a sample if the null hypothesis is true. A significance level of 5% is often used as the threshold where you say, this is so unlikely that I consider the null hypothesis as wrong. However, 5% still means that this happens in 5 out of 100 times.\n",
    "\n",
    "Depending on your working hypothesis $H_1$, you are either interested in a one-, or two-sided test. Roughly speaking you'll use a one-tailed (``` greater, less ```) test, when having a hypothesis about the direction of an effect e.g. group 1 is better that group 2. You'll use a two-tailed test (```two-sided```) when you just want to show that the two groups are different.\n",
    "For more insight on this, check out this link https://stats.idre.ucla.edu/other/mult-pkg/faq/general/faq-what-are-the-differences-between-one-tailed-and-two-tailed-tests/\n",
    "\n",
    "In Python (an R) you can adapt the direction of you test with the argument via\n",
    "\n",
    "```\n",
    "alternative='two-sided', 'less', 'greater'\n",
    "```\n",
    "To avoid confusion the code below below always uses ```alternative='two-sided```.\n",
    "\n"
   ]
  },
  {
   "cell_type": "markdown",
   "metadata": {
    "id": "VZ_xY_wjECki"
   },
   "source": [
    "### Error types and statistical power"
   ]
  },
  {
   "cell_type": "markdown",
   "metadata": {
    "id": "9ZHJS02RECki"
   },
   "source": [
    "- Type I : Reject the null hypothesis due to a fluctuation of the sample (false positive)\n",
    "- Type II : Keep the null hypothesis by interpreting a real effect as a fluctuation (false negative)\n",
    "- (Type 0 : Make the right conclusion but asking the wrong question)\n",
    "\n",
    "People may talk about the **statistical power** of their experiment. This is a number between 0 and 1 telling how often your experiment would lead to a type II error. So a high power (close to 1) means rare type II errors. The statistical power is infuenced by your significance criterion, the (physical) magnitude of your effect, the sample size (\"statistics\").\n",
    "\n",
    "### Many tests\n",
    "\n",
    "There are many tests on the market and some or most of them are implemented in Python (or R). It is impossible to look at all the tests that exist, since basically for every scenario there is another test. We therefore focus on a few useful cases. You would look up suiteable tests for your analysis. The important thing is to know what a test assumes (distribution etc) and how to interprete the result and if you can trust the result\n"
   ]
  },
  {
   "cell_type": "markdown",
   "metadata": {
    "id": "qZTVZlkGECki"
   },
   "source": [
    "## 4.2 Normality"
   ]
  },
  {
   "cell_type": "markdown",
   "metadata": {
    "id": "u0VRbqg2kmUT"
   },
   "source": [
    "There are different approaches to deciding whether the normality assumption is satisfied. There are statistical tests as well as grafical approaches. We first look at a graphical approach named Q-Q-Plot\n",
    "\n",
    "### 4.2.1 Q-Q-Plot\n"
   ]
  },
  {
   "cell_type": "markdown",
   "metadata": {
    "id": "tuWZtcAWvLvi"
   },
   "source": [
    "A Q-Q (quantile-quantile) plot, plots the distribution of the data against the expected normal distribution by comparing their quantiles. For normally distributed data, observations should lie approximately on a straight line. If the data is not normal, the points deviate from a straight line.\n",
    "\n",
    "Let us first generate some normal data, to see how a Q-Q-Plot ideally should look like."
   ]
  },
  {
   "cell_type": "code",
   "execution_count": 52,
   "metadata": {
    "colab": {
     "base_uri": "https://localhost:8080/",
     "height": 449
    },
    "executionInfo": {
     "elapsed": 750,
     "status": "ok",
     "timestamp": 1693132007502,
     "user": {
      "displayName": "Anja Mühlemann",
      "userId": "13180139022750424409"
     },
     "user_tz": -120
    },
    "id": "ZLThYnuik7_2",
    "outputId": "0eb6fc63-583d-462d-933d-6a2a4126a963"
   },
   "outputs": [
    {
     "data": {
      "image/png": "[encoded data removed]",
      "text/plain": [
       "<Figure size 640x480 with 1 Axes>"
      ]
     },
     "metadata": {},
     "output_type": "display_data"
    }
   ],
   "source": [
    "n = 100\n",
    "np.random.seed(26082021) # By fixing the seed, you can make the generation reproducible\n",
    "# Generate a data sample of size n\n",
    "a = np.random.normal(2, 5, size=n)\n",
    "fig=sm.qqplot(a, line='s')\n",
    "plt.show()"
   ]
  },
  {
   "cell_type": "markdown",
   "metadata": {
    "id": "1nG9vZevnKap"
   },
   "source": [
    "Now let us check what happens if the normality assumption is certainly violated (by looking at the chi2-distribition, which is not normally distributed)."
   ]
  },
  {
   "cell_type": "code",
   "execution_count": 45,
   "metadata": {
    "colab": {
     "base_uri": "https://localhost:8080/",
     "height": 449
    },
    "executionInfo": {
     "elapsed": 460,
     "status": "ok",
     "timestamp": 1693132007957,
     "user": {
      "displayName": "Anja Mühlemann",
      "userId": "13180139022750424409"
     },
     "user_tz": -120
    },
    "id": "TAdE2xvanWNV",
    "outputId": "337e7ca2-64c9-48c9-f788-de386c54ec8a"
   },
   "outputs": [
    {
     "data": {
      "image/png": "[encoded data removed]",
      "text/plain": [
       "<Figure size 640x480 with 1 Axes>"
      ]
     },
     "metadata": {},
     "output_type": "display_data"
    }
   ],
   "source": [
    "n = 100\n",
    "np.random.seed(26082021) # By fixing the seed, you can make the generation reproducible\n",
    "# Generate a data sample of size n from a chi-square distribution, MR: chisquare distribution is not like the normal distribution\n",
    "b = np.random.chisquare(df=3, size=n)\n",
    "fig=sm.qqplot(b, line='s')\n",
    "plt.show()"
   ]
  },
  {
   "cell_type": "markdown",
   "metadata": {
    "id": "PL8RejGHoHpw"
   },
   "source": [
    "Now let us go back to the iris data. The the previous days we suspected that *slength* from of the species *iris virginica* is normally distributed. Let us therefore look at the corresponding Q-Q-Plot."
   ]
  },
  {
   "cell_type": "code",
   "execution_count": 54,
   "metadata": {
    "colab": {
     "base_uri": "https://localhost:8080/",
     "height": 449
    },
    "executionInfo": {
     "elapsed": 957,
     "status": "ok",
     "timestamp": 1693132008910,
     "user": {
      "displayName": "Anja Mühlemann",
      "userId": "13180139022750424409"
     },
     "user_tz": -120
    },
    "id": "dzW1okMfopAv",
    "outputId": "27d433d4-3f3c-4987-ca41-47fd3ebb754a"
   },
   "outputs": [
    {
     "data": {
      "image/png": "[encoded data removed]",
      "text/plain": [
       "<Figure size 640x480 with 1 Axes>"
      ]
     },
     "metadata": {},
     "output_type": "display_data"
    }
   ],
   "source": [
    "# Load Data\n",
    "url = \"https://archive.ics.uci.edu/ml/machine-learning-databases/iris/iris.data\"\n",
    "df = pd.read_csv(url,names=['slength','swidth','plength','pwidth','species'])\n",
    "# Choose species & slength\n",
    "df_virginica = df[df['species']=='Iris-virginica']\n",
    "slength = df_virginica['slength']\n",
    "# Q-Q-Plot\n",
    "fig=sm.qqplot(slength, line='s')\n",
    "plt.show()"
   ]
  },
  {
   "cell_type": "markdown",
   "metadata": {
    "id": "V3rUNlU0pJJZ"
   },
   "source": [
    "The Q-Q-Plot looks quite promising. But there are some outliers. When one is not sure on how the decide, it's helpful go generate some normal samples of the same size and compare their Q-Q-Plots to the one at hand."
   ]
  },
  {
   "cell_type": "code",
   "execution_count": 55,
   "metadata": {
    "colab": {
     "base_uri": "https://localhost:8080/",
     "height": 449
    },
    "executionInfo": {
     "elapsed": 729,
     "status": "ok",
     "timestamp": 1693132009634,
     "user": {
      "displayName": "Anja Mühlemann",
      "userId": "13180139022750424409"
     },
     "user_tz": -120
    },
    "id": "eSOXT4rEpjUm",
    "outputId": "4ed161e5-5cd9-4373-91f2-75fec2d38d68"
   },
   "outputs": [
    {
     "data": {
      "image/png": "[encoded data removed]",
      "text/plain": [
       "<Figure size 640x480 with 1 Axes>"
      ]
     },
     "metadata": {},
     "output_type": "display_data"
    }
   ],
   "source": [
    "# Generate a data sample of size n\n",
    "c = np.random.normal(slength.mean(), slength.std(), size=len(slength))\n",
    "fig=sm.qqplot(c, line='s')\n",
    "plt.show()"
   ]
  },
  {
   "cell_type": "markdown",
   "metadata": {
    "id": "sVftxaTGp7fA"
   },
   "source": [
    "If we rerun the above code several times, it seems that a normality assumption is justified."
   ]
  },
  {
   "cell_type": "markdown",
   "metadata": {
    "id": "SYuEAGFGqHWg"
   },
   "source": [
    "### 4.2.2 Normality test"
   ]
  },
  {
   "cell_type": "markdown",
   "metadata": {
    "id": "7T0jr3FoECki"
   },
   "source": [
    "An alternative to Q-Q-Plots is provided by normality tests.\n",
    "\n",
    "They can be performed for each column of data. Each normality test reports a p-value that answers this question:\n",
    "\n",
    "If you randomly sample from a Gaussian population, what is the probability of obtaining a sample that deviates from a Gaussian distribution as much (or more so) as this sample does?\n",
    "\n",
    "Normality tests are not good for small samples (<10-20 values). You can do it, but the interpration of the output is not straight forward.\n",
    "\n",
    "There are several normality tests in the Python stats module:\n",
    "- D’Agostino-Pearson\n",
    "- Shapiro-Wilk\n",
    "- Kolomogorv-Smirnov\n",
    "\n",
    "Many people prefer to use the first one. But the others are also widely used. Personally, I often work with Q-Q-Plots because that way I get a better impression on what areas might be critical and what not. But many people prefer tests because the decision is easier to make, however that may also lead to a false sense of security.\n",
    "\n",
    "What is a bit different with normality test compared to other tests, is that we cannot test for normality but rather against normality. Meaning that if the p-value is small that indicates that the data is **not** normally distributed. Hence, we are rather hoping for a p-value close to 1.\n",
    "\n",
    "https://docs.scipy.org/doc/scipy/reference/stats.html\n"
   ]
  },
  {
   "cell_type": "markdown",
   "metadata": {
    "id": "wEphSKf7ECkj"
   },
   "source": [
    "Let us perform the D’Agostino-Pearson test for examples we considered with the Q-Q-Plots. First the data generated from a normal distribution."
   ]
  },
  {
   "cell_type": "code",
   "execution_count": 57,
   "metadata": {
    "colab": {
     "base_uri": "https://localhost:8080/"
    },
    "executionInfo": {
     "elapsed": 270,
     "status": "ok",
     "timestamp": 1693132060818,
     "user": {
      "displayName": "Anja Mühlemann",
      "userId": "13180139022750424409"
     },
     "user_tz": -120
    },
    "id": "_xdhRhjyECkk",
    "outputId": "d4eb92a5-04cb-4431-bbe4-af2739885a72"
   },
   "outputs": [
    {
     "name": "stdout",
     "output_type": "stream",
     "text": [
      "Alpha =  0.001\n",
      "p =  0.23116477867149401\n",
      "The null hypothesis cannot be rejected\n"
     ]
    }
   ],
   "source": [
    "k2, p = stats.normaltest(a) # D Agostino-Pearson. The method returns the test statistic value and the p-value\n",
    "alpha = 0.001 # Rejection criterion defined by you\n",
    "print('Alpha = ',alpha)\n",
    "print('p = ',p)\n",
    "if p < alpha:  # null hypothesis: x comes from a normal distribution\n",
    "     print(\"The null hypothesis can be rejected\")\n",
    "else:\n",
    "  print(\"The null hypothesis cannot be rejected\")"
   ]
  },
  {
   "cell_type": "markdown",
   "metadata": {
    "id": "jYTAwFUzECkk"
   },
   "source": [
    "This is not very surprising as we generated the data from a normal distribution. Now let us look at the data generated from a Chi-square distribution."
   ]
  },
  {
   "cell_type": "code",
   "execution_count": 58,
   "metadata": {
    "colab": {
     "base_uri": "https://localhost:8080/"
    },
    "executionInfo": {
     "elapsed": 238,
     "status": "ok",
     "timestamp": 1693132077752,
     "user": {
      "displayName": "Anja Mühlemann",
      "userId": "13180139022750424409"
     },
     "user_tz": -120
    },
    "id": "ovPFMCCQs3Oc",
    "outputId": "cf629bf5-7d85-4408-c207-659787179d1b"
   },
   "outputs": [
    {
     "name": "stdout",
     "output_type": "stream",
     "text": [
      "Alpha =  0.001\n",
      "p =  0.0008658946948332712\n",
      "The null hypothesis can be rejected\n"
     ]
    }
   ],
   "source": [
    "k2, p = stats.normaltest(b) # D Agostino-Pearson. The method returns the test statistic value and the p-value\n",
    "alpha = 0.001 # Rejection criterion defined by you\n",
    "print('Alpha = ',alpha)\n",
    "print('p = ',p)\n",
    "if p < alpha:  # null hypothesis: x comes from a normal distribution\n",
    "     print(\"The null hypothesis can be rejected\")\n",
    "else:\n",
    "  print(\"The null hypothesis cannot be rejected\")"
   ]
  },
  {
   "cell_type": "markdown",
   "metadata": {
    "id": "DtgNzuf0tKV7"
   },
   "source": [
    "Indeed the normality test suggest that we should reject the normality assumption. Finally let us looks again at *slength* from *iris virginica*."
   ]
  },
  {
   "cell_type": "code",
   "execution_count": 59,
   "metadata": {
    "colab": {
     "base_uri": "https://localhost:8080/"
    },
    "executionInfo": {
     "elapsed": 238,
     "status": "ok",
     "timestamp": 1693132085401,
     "user": {
      "displayName": "Anja Mühlemann",
      "userId": "13180139022750424409"
     },
     "user_tz": -120
    },
    "id": "2uHxrf2qtmrv",
    "outputId": "dfab8d70-6959-44bd-c06d-629b2e0cfabb"
   },
   "outputs": [
    {
     "name": "stdout",
     "output_type": "stream",
     "text": [
      "Alpha =  0.001\n",
      "p =  0.9008201941206306\n",
      "The null hypothesis cannot be rejected\n"
     ]
    }
   ],
   "source": [
    "k2, p = stats.normaltest(slength) # D Agostino-Pearson. The method returns the test statistic value and the p-value\n",
    "alpha = 0.001 # Rejection criterion defined by you\n",
    "print('Alpha = ',alpha)\n",
    "print('p = ',p)\n",
    "if p < alpha:  # null hypothesis: x comes from a normal distribution\n",
    "     print(\"The null hypothesis can be rejected\")\n",
    "else:\n",
    "  print(\"The null hypothesis cannot be rejected\")"
   ]
  },
  {
   "cell_type": "markdown",
   "metadata": {
    "id": "EgbUYIcEtryT"
   },
   "source": [
    "Considering the Q-Q-Plot we concluded that the normality assumption is justified. The D’Agostino-Pearson test confirms this conclusion.\n"
   ]
  },
  {
   "cell_type": "markdown",
   "metadata": {
    "id": "3WhvYsqcECkk"
   },
   "source": [
    "Let us do one more characteristic together. This time we look at the species *iris setosa* and its characteristic *swidth*."
   ]
  },
  {
   "cell_type": "code",
   "execution_count": 83,
   "metadata": {
    "colab": {
     "base_uri": "https://localhost:8080/"
    },
    "executionInfo": {
     "elapsed": 241,
     "status": "ok",
     "timestamp": 1693132096114,
     "user": {
      "displayName": "Anja Mühlemann",
      "userId": "13180139022750424409"
     },
     "user_tz": -120
    },
    "id": "xiT7tUgYECkl",
    "outputId": "395329fe-d3bf-4910-c2ff-a9c2e10a3d06"
   },
   "outputs": [
    {
     "name": "stdout",
     "output_type": "stream",
     "text": [
      "DescribeResult(nobs=50, minmax=(2.3, 4.4), mean=3.418, variance=0.1451795918367347, skewness=0.1038140820747848, kurtosis=0.6851340609499261)\n"
     ]
    },
    {
     "data": {
      "text/plain": [
       "count    50.000000\n",
       "mean      3.418000\n",
       "std       0.381024\n",
       "min       2.300000\n",
       "25%       3.125000\n",
       "50%       3.400000\n",
       "75%       3.675000\n",
       "max       4.400000\n",
       "Name: swidth, dtype: float64"
      ]
     },
     "execution_count": 83,
     "metadata": {},
     "output_type": "execute_result"
    }
   ],
   "source": [
    "df_setosa=df[df['species'] == 'Iris-setosa']\n",
    "dfs = df_setosa['swidth']\n",
    "print(stats.describe(dfs)) # Print some descriptive statistics\n",
    "dfs.describe() # the pandas describe prints similar statistics\n"
   ]
  },
  {
   "cell_type": "markdown",
   "metadata": {
    "id": "P1YykOs2ECkl"
   },
   "source": [
    "Check the normality of the iris sepal length of species"
   ]
  },
  {
   "cell_type": "code",
   "execution_count": 61,
   "metadata": {
    "colab": {
     "base_uri": "https://localhost:8080/"
    },
    "executionInfo": {
     "elapsed": 249,
     "status": "ok",
     "timestamp": 1693132100735,
     "user": {
      "displayName": "Anja Mühlemann",
      "userId": "13180139022750424409"
     },
     "user_tz": -120
    },
    "id": "UcQl1rn5ECkl",
    "outputId": "3071cd89-506a-42f1-d06b-931c2baa9876"
   },
   "outputs": [
    {
     "name": "stdout",
     "output_type": "stream",
     "text": [
      "p-value = 0.39\n"
     ]
    }
   ],
   "source": [
    "k2, p = stats.normaltest(dfs) # D Agostino-Pearson test\n",
    "print(\"p-value = %1.2f\" % p)\n"
   ]
  },
  {
   "cell_type": "markdown",
   "metadata": {
    "id": "Hb5fcXBKECkm"
   },
   "source": [
    "What does this p-value mean? If you want to know what the k2 is, look it up in the documentation. What about de other species and characteristics?\n",
    "\n",
    "MR: since a high p-value in a normality test means that your distribution is probably normally distributed, p=0.39 means it is kind of normally distributed"
   ]
  },
  {
   "cell_type": "markdown",
   "metadata": {
    "id": "3_eLQ3lEECkm"
   },
   "source": [
    "We can also try the shapiro test that the stat module offers:"
   ]
  },
  {
   "cell_type": "code",
   "execution_count": 62,
   "metadata": {
    "colab": {
     "base_uri": "https://localhost:8080/"
    },
    "executionInfo": {
     "elapsed": 5,
     "status": "ok",
     "timestamp": 1693132009935,
     "user": {
      "displayName": "Anja Mühlemann",
      "userId": "13180139022750424409"
     },
     "user_tz": -120
    },
    "id": "vn2rnlUNECkm",
    "outputId": "809a84e0-fff1-4bc4-f153-c3b02e9938f1"
   },
   "outputs": [
    {
     "name": "stdout",
     "output_type": "stream",
     "text": [
      "Test statistic =  0.9686915278434753  p-value = 0.20464898645877838\n"
     ]
    }
   ],
   "source": [
    "s,p = stats.shapiro(dfs)\n",
    "print('Test statistic = ',s,' p-value =',p)"
   ]
  },
  {
   "cell_type": "markdown",
   "metadata": {
    "id": "kxoVtddBECkn"
   },
   "source": [
    "In this case the shapiro test returns a lower p-value. How should you proceed?\n",
    "\n",
    "MR: look at the QQ-Plot? see below: looks ok, with the exception of the tails"
   ]
  },
  {
   "cell_type": "code",
   "execution_count": 85,
   "metadata": {},
   "outputs": [
    {
     "data": {
      "image/png": "[encoded data removed]",
      "text/plain": [
       "<Figure size 640x480 with 1 Axes>"
      ]
     },
     "metadata": {},
     "output_type": "display_data"
    }
   ],
   "source": [
    "#MR\n",
    "# Q-Q-Plot\n",
    "fig=sm.qqplot(dfs, line='s') #dfs from above: =df_setosa['swidth']\n",
    "plt.show()"
   ]
  },
  {
   "cell_type": "markdown",
   "metadata": {
    "id": "h4ulhAzfvTpL"
   },
   "source": [
    "## 4.3 One-sample tests\n",
    "Having seen how we can check for normality let us introduce the tests seen on the slides.\n",
    "More details on the specific tests will be given in the presentations tomorrow. Nonetheless it's helpful to have an overview on how the tests are performed.\n",
    "To illustrate the 1-sample tests we want to test whether the *true* center of the distribution of *swidth* of *iris setosa* equals $3.3$."
   ]
  },
  {
   "cell_type": "markdown",
   "metadata": {
    "id": "P2ZhBJitECko"
   },
   "source": [
    "### 4.3.1 t-Test\n",
    "\n",
    "With the t-test you can test your data against a normal distribution with a given mean:\n",
    "\n",
    "If the data were sampled from a Gaussian population with a mean equal to the hypothetical value you entered, what is the chance of randomly selecting N data points and finding a mean as far (or further) from the hypothetical value as observed here?\n",
    "\n",
    "https://docs.scipy.org/doc/scipy/reference/generated/scipy.stats.normaltest.html#scipy.stats.normaltest"
   ]
  },
  {
   "cell_type": "code",
   "execution_count": 63,
   "metadata": {
    "colab": {
     "base_uri": "https://localhost:8080/"
    },
    "executionInfo": {
     "elapsed": 19,
     "status": "ok",
     "timestamp": 1693132010367,
     "user": {
      "displayName": "Anja Mühlemann",
      "userId": "13180139022750424409"
     },
     "user_tz": -120
    },
    "id": "5vrPf86CECko",
    "outputId": "90efb7a6-baa6-48eb-90da-53b22610bd49"
   },
   "outputs": [
    {
     "name": "stdout",
     "output_type": "stream",
     "text": [
      "The sample mean of the sepal length =  3.418\n"
     ]
    },
    {
     "data": {
      "text/plain": [
       "TtestResult(statistic=2.1898492754769694, pvalue=0.03332564455719665, df=49)"
      ]
     },
     "execution_count": 63,
     "metadata": {},
     "output_type": "execute_result"
    }
   ],
   "source": [
    "print('The sample mean of the sepal length = ',dfs.mean())\n",
    "\n",
    "stats.ttest_1samp(a=dfs,popmean=3.3, alternative='two-sided')\n"
   ]
  },
  {
   "cell_type": "markdown",
   "metadata": {
    "id": "CRsNnpqfECko"
   },
   "source": [
    "**Interpretation:** If the real average of the sepal length of setosa leaves is 3.3 cm and if the length of the leaves is normally distributed, the probability of sampling this data or worse data from setosa leaves is 3.3%. So we would reject the null hypothesis on level 95%"
   ]
  },
  {
   "cell_type": "markdown",
   "metadata": {
    "id": "IfL2IZhsECkp"
   },
   "source": [
    "Our null hypothesis in this case was a normal distribution with mean equal to 3.3 cm."
   ]
  },
  {
   "cell_type": "markdown",
   "metadata": {
    "id": "pwkZAIPxwjNA"
   },
   "source": [
    "### 4.3.2 Wilcoxon signed rank test"
   ]
  },
  {
   "cell_type": "markdown",
   "metadata": {
    "id": "TN8LqHyI1OVk"
   },
   "source": [
    "If normality is not satisfied but the distribution can be assumed to be symmetric we can perform a one-sample Wilcoxon signed rank test. It works similar to the t-test but we have to subtract the guessed population mean.\n",
    "\n",
    "https://docs.scipy.org/doc/scipy/reference/generated/scipy.stats.wilcoxon.html#scipy.stats.wilcoxon"
   ]
  },
  {
   "cell_type": "code",
   "execution_count": 64,
   "metadata": {
    "colab": {
     "base_uri": "https://localhost:8080/"
    },
    "executionInfo": {
     "elapsed": 18,
     "status": "ok",
     "timestamp": 1693132010368,
     "user": {
      "displayName": "Anja Mühlemann",
      "userId": "13180139022750424409"
     },
     "user_tz": -120
    },
    "id": "VckwDkm6w8IN",
    "outputId": "caef255b-e2d7-4243-93e7-57eeb5c28461"
   },
   "outputs": [
    {
     "name": "stderr",
     "output_type": "stream",
     "text": [
      "/Users/marinder/anaconda3/lib/python3.11/site-packages/scipy/stats/_morestats.py:3414: UserWarning: Exact p-value calculation does not work if there are zeros. Switching to normal approximation.\n",
      "  warnings.warn(\"Exact p-value calculation does not work if there are \"\n"
     ]
    },
    {
     "data": {
      "text/plain": [
       "WilcoxonResult(statistic=352.0, pvalue=0.01533078537135795)"
      ]
     },
     "execution_count": 64,
     "metadata": {},
     "output_type": "execute_result"
    }
   ],
   "source": [
    "stats.wilcoxon(dfs-3.3, alternative='two-sided')\n"
   ]
  },
  {
   "cell_type": "markdown",
   "metadata": {
    "id": "Qit9RJk00cCz"
   },
   "source": [
    "### 4.3.3 Sign test"
   ]
  },
  {
   "cell_type": "markdown",
   "metadata": {
    "id": "lBWPXA0r1myG"
   },
   "source": [
    "If the distribtuion is neither normal nor symmetric we can perform a sign-test. For some reason, only the two-sided version is implemented. But the sign-test is fairly easy to calculate by hand.\n",
    "\n",
    "https://www.statsmodels.org/stable/generated/statsmodels.stats.descriptivestats.sign_test.html\n",
    "\n",
    "https://en.wikipedia.org/wiki/Sign_test"
   ]
  },
  {
   "cell_type": "code",
   "execution_count": 65,
   "metadata": {
    "colab": {
     "base_uri": "https://localhost:8080/"
    },
    "executionInfo": {
     "elapsed": 15,
     "status": "ok",
     "timestamp": 1693132010368,
     "user": {
      "displayName": "Anja Mühlemann",
      "userId": "13180139022750424409"
     },
     "user_tz": -120
    },
    "id": "BF21xkVd0lj_",
    "outputId": "183f195a-55da-4a28-9eb5-c776d7334b7f"
   },
   "outputs": [
    {
     "data": {
      "text/plain": [
       "(6.0, 0.11140289106101878)"
      ]
     },
     "execution_count": 65,
     "metadata": {},
     "output_type": "execute_result"
    }
   ],
   "source": [
    "import statsmodels.stats.descriptivestats as dstat\n",
    "dstat.sign_test(dfs, mu0=3.3)\n"
   ]
  },
  {
   "cell_type": "markdown",
   "metadata": {
    "id": "h20vp8UhECkp"
   },
   "source": [
    "## 4.4 Two-sample Tests"
   ]
  },
  {
   "cell_type": "markdown",
   "metadata": {
    "id": "m6x_0k2MECkq"
   },
   "source": [
    "In many experiments one uses two groups, a treated group and a control group which is not treated. The goal is then to ckeck the effect of the treatment.\n",
    "\n",
    "One way to answer this, is to check how much the treated group differs from the control group. Python stats module offer several tests to do this.\n",
    "\n",
    "If the data is \"paired\", this can be used in the tests (they get better because there is more \"information or structure\" in the data). So we need to know what paired data is in order to choose the right test.\n",
    "\n",
    "**Paired/related data**\n",
    "- Repeated measurements on the same object/individual, e.g. before and after treatment\n",
    "\n",
    "**Unpaired/independent data**\n",
    "- Independent, e.g. from separate individuals"
   ]
  },
  {
   "cell_type": "markdown",
   "metadata": {
    "id": "iHeJlBTNECkq"
   },
   "source": [
    "### 4.4.1 t-test for normally distributed unpaired data with not assuming equal variance"
   ]
  },
  {
   "cell_type": "markdown",
   "metadata": {
    "id": "RfRbY5ciECkq"
   },
   "source": [
    "Let us perform a test comparing the sepal width of the setosa and the virginica species.\n",
    "https://docs.scipy.org/doc/scipy/reference/generated/scipy.stats.ttest_ind.html#scipy.stats.ttest_ind"
   ]
  },
  {
   "cell_type": "code",
   "execution_count": 66,
   "metadata": {
    "colab": {
     "base_uri": "https://localhost:8080/",
     "height": 206
    },
    "executionInfo": {
     "elapsed": 13,
     "status": "ok",
     "timestamp": 1693132010368,
     "user": {
      "displayName": "Anja Mühlemann",
      "userId": "13180139022750424409"
     },
     "user_tz": -120
    },
    "id": "cZboud7GECkq",
    "outputId": "790ef74e-753b-4d55-936d-04a5d0a1010a"
   },
   "outputs": [
    {
     "data": {
      "text/html": [
       "<div>\n",
       "<style scoped>\n",
       "    .dataframe tbody tr th:only-of-type {\n",
       "        vertical-align: middle;\n",
       "    }\n",
       "\n",
       "    .dataframe tbody tr th {\n",
       "        vertical-align: top;\n",
       "    }\n",
       "\n",
       "    .dataframe thead th {\n",
       "        text-align: right;\n",
       "    }\n",
       "</style>\n",
       "<table border=\"1\" class=\"dataframe\">\n",
       "  <thead>\n",
       "    <tr style=\"text-align: right;\">\n",
       "      <th></th>\n",
       "      <th>slength</th>\n",
       "      <th>swidth</th>\n",
       "      <th>plength</th>\n",
       "      <th>pwidth</th>\n",
       "      <th>species</th>\n",
       "    </tr>\n",
       "  </thead>\n",
       "  <tbody>\n",
       "    <tr>\n",
       "      <th>100</th>\n",
       "      <td>6.3</td>\n",
       "      <td>3.3</td>\n",
       "      <td>6.0</td>\n",
       "      <td>2.5</td>\n",
       "      <td>Iris-virginica</td>\n",
       "    </tr>\n",
       "    <tr>\n",
       "      <th>101</th>\n",
       "      <td>5.8</td>\n",
       "      <td>2.7</td>\n",
       "      <td>5.1</td>\n",
       "      <td>1.9</td>\n",
       "      <td>Iris-virginica</td>\n",
       "    </tr>\n",
       "    <tr>\n",
       "      <th>102</th>\n",
       "      <td>7.1</td>\n",
       "      <td>3.0</td>\n",
       "      <td>5.9</td>\n",
       "      <td>2.1</td>\n",
       "      <td>Iris-virginica</td>\n",
       "    </tr>\n",
       "    <tr>\n",
       "      <th>103</th>\n",
       "      <td>6.3</td>\n",
       "      <td>2.9</td>\n",
       "      <td>5.6</td>\n",
       "      <td>1.8</td>\n",
       "      <td>Iris-virginica</td>\n",
       "    </tr>\n",
       "    <tr>\n",
       "      <th>104</th>\n",
       "      <td>6.5</td>\n",
       "      <td>3.0</td>\n",
       "      <td>5.8</td>\n",
       "      <td>2.2</td>\n",
       "      <td>Iris-virginica</td>\n",
       "    </tr>\n",
       "  </tbody>\n",
       "</table>\n",
       "</div>"
      ],
      "text/plain": [
       "     slength  swidth  plength  pwidth         species\n",
       "100      6.3     3.3      6.0     2.5  Iris-virginica\n",
       "101      5.8     2.7      5.1     1.9  Iris-virginica\n",
       "102      7.1     3.0      5.9     2.1  Iris-virginica\n",
       "103      6.3     2.9      5.6     1.8  Iris-virginica\n",
       "104      6.5     3.0      5.8     2.2  Iris-virginica"
      ]
     },
     "execution_count": 66,
     "metadata": {},
     "output_type": "execute_result"
    }
   ],
   "source": [
    "df_virginica=df[df['species'] == 'Iris-virginica']\n",
    "df_virginica.head() # Just cheking that we got the right data by looking at the first five (head)"
   ]
  },
  {
   "cell_type": "markdown",
   "metadata": {
    "id": "OgykAA_ZECkq"
   },
   "source": [
    "We did test that the setosa setal width is very normal. Let us also check the virginica setal width."
   ]
  },
  {
   "cell_type": "code",
   "execution_count": 67,
   "metadata": {
    "colab": {
     "base_uri": "https://localhost:8080/"
    },
    "executionInfo": {
     "elapsed": 12,
     "status": "ok",
     "timestamp": 1693132010369,
     "user": {
      "displayName": "Anja Mühlemann",
      "userId": "13180139022750424409"
     },
     "user_tz": -120
    },
    "id": "zZeo7UOJECkq",
    "outputId": "73a9d115-cd76-4ad2-9b5a-83963ba429a1"
   },
   "outputs": [
    {
     "name": "stdout",
     "output_type": "stream",
     "text": [
      "p-value = 0.28\n"
     ]
    }
   ],
   "source": [
    "k2, p = stats.normaltest(df_virginica['swidth']) # D Agostino-Pearson test\n",
    "print(\"p-value = %1.2f\" % p)"
   ]
  },
  {
   "cell_type": "markdown",
   "metadata": {
    "id": "owO7j7SLECkq"
   },
   "source": [
    "This looks also very normal. How likely is it that these two samples come from a normal sample with the same mean?"
   ]
  },
  {
   "cell_type": "code",
   "execution_count": 68,
   "metadata": {
    "colab": {
     "base_uri": "https://localhost:8080/"
    },
    "executionInfo": {
     "elapsed": 9,
     "status": "ok",
     "timestamp": 1693132010369,
     "user": {
      "displayName": "Anja Mühlemann",
      "userId": "13180139022750424409"
     },
     "user_tz": -120
    },
    "id": "3sjktUvqECkq",
    "outputId": "9017405a-3515-4c94-c7e2-c4fbf865300c"
   },
   "outputs": [
    {
     "data": {
      "text/plain": [
       "Ttest_indResult(statistic=6.289384996672061, pvalue=9.58603917037916e-09)"
      ]
     },
     "execution_count": 68,
     "metadata": {},
     "output_type": "execute_result"
    }
   ],
   "source": [
    "stats.ttest_ind(df_setosa['swidth'],df_virginica['swidth'], equal_var = False, alternative='two-sided') # False means we don't assume equal variances (Welsch's t-test)"
   ]
  },
  {
   "cell_type": "markdown",
   "metadata": {
    "id": "nCx8cjjHECkr"
   },
   "source": [
    "**Interpretation :** It is extremly unlikely that these samples would come from a population with the same mean.\n",
    "The sample means were:"
   ]
  },
  {
   "cell_type": "code",
   "execution_count": 86,
   "metadata": {
    "colab": {
     "base_uri": "https://localhost:8080/"
    },
    "executionInfo": {
     "elapsed": 284,
     "status": "ok",
     "timestamp": 1693132010646,
     "user": {
      "displayName": "Anja Mühlemann",
      "userId": "13180139022750424409"
     },
     "user_tz": -120
    },
    "id": "0zJiylwNECkr",
    "outputId": "581a6c6b-673e-4b76-be45-83da67cfb5b8"
   },
   "outputs": [
    {
     "name": "stdout",
     "output_type": "stream",
     "text": [
      "2.97 3.42\n"
     ]
    },
    {
     "name": "stderr",
     "output_type": "stream",
     "text": [
      "/var/folders/3f/fq1cp83n5sq16c_d53znhsfh0000gn/T/ipykernel_81338/162764180.py:1: FutureWarning: The default value of numeric_only in DataFrame.mean is deprecated. In a future version, it will default to False. In addition, specifying 'numeric_only=None' is deprecated. Select only valid columns or specify the value of numeric_only to silence this warning.\n",
      "  print(\"%1.2f %1.2f\" % (df_virginica.mean()['swidth'], df_setosa.mean()['swidth']))\n",
      "/var/folders/3f/fq1cp83n5sq16c_d53znhsfh0000gn/T/ipykernel_81338/162764180.py:1: FutureWarning: The default value of numeric_only in DataFrame.mean is deprecated. In a future version, it will default to False. In addition, specifying 'numeric_only=None' is deprecated. Select only valid columns or specify the value of numeric_only to silence this warning.\n",
      "  print(\"%1.2f %1.2f\" % (df_virginica.mean()['swidth'], df_setosa.mean()['swidth']))\n"
     ]
    }
   ],
   "source": [
    "print(\"%1.2f %1.2f\" % (df_virginica.mean()['swidth'], df_setosa.mean()['swidth']))\n"
   ]
  },
  {
   "cell_type": "markdown",
   "metadata": {
    "id": "rAZdi_FzECks"
   },
   "source": [
    "### 4.4.2 t-test for normally distributed unpaired data assuming equal variance"
   ]
  },
  {
   "cell_type": "code",
   "execution_count": 70,
   "metadata": {
    "colab": {
     "base_uri": "https://localhost:8080/"
    },
    "executionInfo": {
     "elapsed": 11,
     "status": "ok",
     "timestamp": 1693132010647,
     "user": {
      "displayName": "Anja Mühlemann",
      "userId": "13180139022750424409"
     },
     "user_tz": -120
    },
    "id": "Zb158UTfECks",
    "outputId": "1b04201e-4b78-4280-e095-fc202dccf033"
   },
   "outputs": [
    {
     "data": {
      "text/plain": [
       "Ttest_indResult(statistic=6.289384996672061, pvalue=8.916634067006443e-09)"
      ]
     },
     "execution_count": 70,
     "metadata": {},
     "output_type": "execute_result"
    }
   ],
   "source": [
    "stats.ttest_ind(df_setosa['swidth'],df_virginica['swidth'], equal_var = True, alternative='two-sided') # True means we assume equal variances"
   ]
  },
  {
   "cell_type": "markdown",
   "metadata": {
    "id": "5OPZ9_LZECks"
   },
   "source": [
    "**Interpretation :** It is extremly unlikely that these samples would come from a population with the same mean.\n",
    "\n",
    "The p-value got slightly worse, but such small p-values have no meaning anyway. p-values below 0.01 are often not that precise. We just know they are below 0.01.\n",
    "\n",
    "\n"
   ]
  },
  {
   "cell_type": "markdown",
   "metadata": {
    "id": "yvWT7ZE0ECks"
   },
   "source": [
    "### 4.4.3 Mann-Whitney U for *not* normally distributed unpaired data"
   ]
  },
  {
   "cell_type": "markdown",
   "metadata": {
    "id": "-2kU2KLJECkt"
   },
   "source": [
    "Compute the Mann-Whitney U test on samples x and y. Only use with more than 20 data points.\n",
    "\n",
    "Mann-Whitney U test compares the MEDIAN (not the mean) of two groups. The distribution (shape of the histogram) is not taken into account, this can be tested with the Kolmogorov-Smirnov test.\n",
    "\n",
    "http://localhost:8888/notebooks/work/SDA-4-Hypothesis-Testing.ipynb#t-Test"
   ]
  },
  {
   "cell_type": "code",
   "execution_count": 71,
   "metadata": {
    "colab": {
     "base_uri": "https://localhost:8080/"
    },
    "executionInfo": {
     "elapsed": 9,
     "status": "ok",
     "timestamp": 1693132010647,
     "user": {
      "displayName": "Anja Mühlemann",
      "userId": "13180139022750424409"
     },
     "user_tz": -120
    },
    "id": "VsT1ZGpvECkt",
    "outputId": "02b0487b-cb1d-4221-9bce-4800c47297b9"
   },
   "outputs": [
    {
     "data": {
      "text/plain": [
       "MannwhitneyuResult(statistic=2073.5, pvalue=1.1808768215413658e-08)"
      ]
     },
     "execution_count": 71,
     "metadata": {},
     "output_type": "execute_result"
    }
   ],
   "source": [
    "stats.mannwhitneyu(df_setosa['swidth'],df_virginica['swidth'], alternative='two-sided')\n"
   ]
  },
  {
   "cell_type": "code",
   "execution_count": 72,
   "metadata": {},
   "outputs": [
    {
     "data": {
      "text/plain": [
       "MannwhitneyuResult(statistic=72.0, pvalue=1.0)"
      ]
     },
     "execution_count": 72,
     "metadata": {},
     "output_type": "execute_result"
    }
   ],
   "source": [
    "stats.mannwhitneyu([2,2,2,2,2,2,2,2,2,2,2,2],[0,0,0,0,0,0,4,4,4,4,4,4], alternative='two-sided')"
   ]
  },
  {
   "cell_type": "markdown",
   "metadata": {
    "id": "6ZKz1VRTECku"
   },
   "source": [
    "Let us do this test with samples from the same population."
   ]
  },
  {
   "cell_type": "code",
   "execution_count": 73,
   "metadata": {
    "colab": {
     "base_uri": "https://localhost:8080/"
    },
    "executionInfo": {
     "elapsed": 7,
     "status": "ok",
     "timestamp": 1693132010647,
     "user": {
      "displayName": "Anja Mühlemann",
      "userId": "13180139022750424409"
     },
     "user_tz": -120
    },
    "id": "VFlindVRECku",
    "outputId": "1954be0f-a70f-4b9f-ed82-00658bd59344"
   },
   "outputs": [
    {
     "name": "stdout",
     "output_type": "stream",
     "text": [
      "MannwhitneyuResult(statistic=365.0, pvalue=0.3101127889935418)\n",
      "MannwhitneyuResult(statistic=42.5, pvalue=0.595035151629138)\n",
      "MannwhitneyuResult(statistic=9.0, pvalue=0.5283593272709488)\n",
      "MannwhitneyuResult(statistic=1.0, pvalue=0.6666666666666666)\n"
     ]
    }
   ],
   "source": [
    "print(stats.mannwhitneyu(df_setosa['swidth'][:25],df_setosa['swidth'][25:50], alternative='two-sided'))\n",
    "print(stats.mannwhitneyu(df_setosa['swidth'][:10],df_setosa['swidth'][40:50], alternative='two-sided'))\n",
    "print(stats.mannwhitneyu(df_setosa['swidth'][:5],df_setosa['swidth'][45:50], alternative='two-sided'))\n",
    "print(stats.mannwhitneyu(df_setosa['swidth'][:2],df_setosa['swidth'][48:50], alternative='two-sided'))"
   ]
  },
  {
   "cell_type": "markdown",
   "metadata": {
    "id": "CE1RfElMECku"
   },
   "source": [
    "The p-value varies quite a lot with the size of the samples. Here we would need to study where it gets stable."
   ]
  },
  {
   "cell_type": "markdown",
   "metadata": {
    "id": "KuLqwtqWECkv"
   },
   "source": [
    "Compute the **Kolmogorov-Smirnov** statistic on 2 samples. This is a test for the null hypothesis that 2 independent samples are drawn from the same continuous distribution. https://docs.scipy.org/doc/scipy/reference/generated/scipy.stats.ks_2samp.html#scipy.stats.ks_2samp"
   ]
  },
  {
   "cell_type": "code",
   "execution_count": 74,
   "metadata": {
    "colab": {
     "base_uri": "https://localhost:8080/"
    },
    "executionInfo": {
     "elapsed": 7,
     "status": "ok",
     "timestamp": 1693132010647,
     "user": {
      "displayName": "Anja Mühlemann",
      "userId": "13180139022750424409"
     },
     "user_tz": -120
    },
    "id": "nxaPB-iPECkv",
    "outputId": "470ba731-f8c1-46ae-defe-5b2b06d9285e"
   },
   "outputs": [
    {
     "data": {
      "text/plain": [
       "KstestResult(statistic=0.5, pvalue=4.8075337049514946e-06, statistic_location=3.0, statistic_sign=-1)"
      ]
     },
     "execution_count": 74,
     "metadata": {},
     "output_type": "execute_result"
    }
   ],
   "source": [
    "stats.ks_2samp(df_setosa['swidth'],df_virginica['swidth'])\n"
   ]
  },
  {
   "cell_type": "code",
   "execution_count": 75,
   "metadata": {},
   "outputs": [
    {
     "data": {
      "text/plain": [
       "KstestResult(statistic=0.5, pvalue=0.03499797755837617, statistic_location=2, statistic_sign=1)"
      ]
     },
     "execution_count": 75,
     "metadata": {},
     "output_type": "execute_result"
    }
   ],
   "source": [
    "stats.ks_2samp([2,2,2,2,2,2,2,2,2,2,2,2,2,2,2,2],[0,0,0,0,0,0,0,0,4,4,4,4,4,4,4,4])"
   ]
  },
  {
   "cell_type": "markdown",
   "metadata": {
    "id": "nAJ3pRRUECkv"
   },
   "source": [
    "**Interpretation:** It is very unlikely that these sets come from the same population."
   ]
  },
  {
   "cell_type": "code",
   "execution_count": 90,
   "metadata": {},
   "outputs": [
    {
     "name": "stderr",
     "output_type": "stream",
     "text": [
      "/var/folders/3f/fq1cp83n5sq16c_d53znhsfh0000gn/T/ipykernel_81338/3949773798.py:1: RuntimeWarning: Precision loss occurred in moment calculation due to catastrophic cancellation. This occurs when the data are nearly identical. Results may be unreliable.\n",
      "  stats.ttest_ind([2,2,2,2,2,2,2,2,2,2,2,2,2,2,2,2],[0,0,0,0,0,0,0,0,4,4,4,4,4,4,4,4], equal_var = False, alternative='two-sided')\n"
     ]
    },
    {
     "data": {
      "text/plain": [
       "Ttest_indResult(statistic=0.0, pvalue=1.0)"
      ]
     },
     "execution_count": 90,
     "metadata": {},
     "output_type": "execute_result"
    }
   ],
   "source": [
    "stats.ttest_ind([2,2,2,2,2,2,2,2,2,2,2,2,2,2,2,2],[0,0,0,0,0,0,0,0,4,4,4,4,4,4,4,4], equal_var = False, alternative='two-sided')"
   ]
  },
  {
   "cell_type": "markdown",
   "metadata": {
    "id": "OJ4T6dgfECkw"
   },
   "source": [
    "Let's do it on the same population."
   ]
  },
  {
   "cell_type": "code",
   "execution_count": 76,
   "metadata": {
    "colab": {
     "base_uri": "https://localhost:8080/"
    },
    "executionInfo": {
     "elapsed": 7,
     "status": "ok",
     "timestamp": 1693132010648,
     "user": {
      "displayName": "Anja Mühlemann",
      "userId": "13180139022750424409"
     },
     "user_tz": -120
    },
    "id": "L51PZHY-ECkw",
    "outputId": "62a8d204-e087-40ee-e109-ffaccf6dbd2b"
   },
   "outputs": [
    {
     "name": "stdout",
     "output_type": "stream",
     "text": [
      "KstestResult(statistic=0.2, pvalue=0.7102038997076623, statistic_location=3.5, statistic_sign=-1)\n",
      "KstestResult(statistic=0.2, pvalue=0.9944575548290717, statistic_location=3.6, statistic_sign=1)\n",
      "KstestResult(statistic=0.4, pvalue=0.873015873015873, statistic_location=3.6, statistic_sign=1)\n"
     ]
    }
   ],
   "source": [
    "print(stats.ks_2samp(df_setosa['swidth'][:25],df_setosa['swidth'][25:50]))\n",
    "print(stats.ks_2samp(df_setosa['swidth'][:10],df_setosa['swidth'][40:50]))\n",
    "print(stats.ks_2samp(df_setosa['swidth'][:5],df_setosa['swidth'][45:50]))"
   ]
  },
  {
   "cell_type": "markdown",
   "metadata": {
    "id": "GKYcBqP5ECkw"
   },
   "source": [
    "For both tests we get very small p-values as expected, when the sets are from different species. When we split one of the datasets into two subsets, the p-values are higher."
   ]
  },
  {
   "cell_type": "markdown",
   "metadata": {
    "id": "oKEUj5LPECkw"
   },
   "source": [
    "### 4.4.4 t-test for normally distributed paired data"
   ]
  },
  {
   "cell_type": "markdown",
   "metadata": {
    "id": "b-DhgPqAECkw"
   },
   "source": [
    "\n",
    "Calculate the T-test on TWO RELATED samples. This is a test for the null hypothesis that 2 related or repeated samples have identical average (expected) values.\n",
    "\n",
    "https://docs.scipy.org/doc/scipy/reference/generated/scipy.stats.ttest_rel.html#scipy.stats.ttest_rel"
   ]
  },
  {
   "cell_type": "markdown",
   "metadata": {
    "id": "dDRNX8ECECkw"
   },
   "source": [
    "Let's test if the swidth and the slength (related/paired) of the setosa sample have identical means."
   ]
  },
  {
   "cell_type": "code",
   "execution_count": 92,
   "metadata": {
    "colab": {
     "base_uri": "https://localhost:8080/"
    },
    "executionInfo": {
     "elapsed": 5,
     "status": "ok",
     "timestamp": 1693132010648,
     "user": {
      "displayName": "Anja Mühlemann",
      "userId": "13180139022750424409"
     },
     "user_tz": -120
    },
    "id": "O05zmU6GECkx",
    "outputId": "89ef3556-27f1-4487-aa58-3e6b50aadf73"
   },
   "outputs": [
    {
     "data": {
      "text/plain": [
       "TtestResult(statistic=-42.79945567495111, pvalue=1.7724677938534726e-40, df=49)"
      ]
     },
     "execution_count": 92,
     "metadata": {},
     "output_type": "execute_result"
    }
   ],
   "source": [
    "stats.ttest_rel(df_setosa['swidth'],df_setosa['slength'], alternative='two-sided')\n"
   ]
  },
  {
   "cell_type": "markdown",
   "metadata": {
    "id": "5CnUZyieECkx"
   },
   "source": [
    "As expected the p-value is very small (we know that swidth and slength have very different means). Let's test two subsamples from the same sample:"
   ]
  },
  {
   "cell_type": "code",
   "execution_count": 78,
   "metadata": {
    "colab": {
     "base_uri": "https://localhost:8080/"
    },
    "executionInfo": {
     "elapsed": 5,
     "status": "ok",
     "timestamp": 1693132010648,
     "user": {
      "displayName": "Anja Mühlemann",
      "userId": "13180139022750424409"
     },
     "user_tz": -120
    },
    "id": "O1Vg75ZoECkx",
    "outputId": "844e354c-b1dc-46ec-93c6-ad02ba3640b9"
   },
   "outputs": [
    {
     "data": {
      "text/plain": [
       "TtestResult(statistic=array([1.08300729]), pvalue=array([0.2895664]), df=array([24]))"
      ]
     },
     "execution_count": 78,
     "metadata": {},
     "output_type": "execute_result"
    }
   ],
   "source": [
    "stats.ttest_rel(df_setosa.iloc[0:25,1:2],df_setosa.iloc[25:50,1:2], alternative='two-sided')\n"
   ]
  },
  {
   "cell_type": "markdown",
   "metadata": {
    "id": "px6IYAY3ECkx"
   },
   "source": [
    "As expected the p-value is high."
   ]
  },
  {
   "cell_type": "markdown",
   "metadata": {
    "id": "E8CakeRIECkx"
   },
   "source": [
    "### 4.4.4 Wilcoxon signed-rank test for *not* normally distributed paired data"
   ]
  },
  {
   "cell_type": "markdown",
   "metadata": {
    "id": "EKgem_7-ECky"
   },
   "source": [
    "The Wilcoxon signed-rank test is a non-parametric statistical hypothesis test used to compare two related samples, matched samples, or repeated measurements on a single sample to assess whether their population mean ranks differ (i.e. it is a paired difference test). It can be used as an alternative to the paired Student's t-test, t-test for matched pairs, or the t-test for dependent samples when the population cannot be assumed to be normally distributed.\n",
    "https://docs.scipy.org/doc/scipy/reference/generated/scipy.stats.wilcoxon.html#scipy.stats.wilcoxon"
   ]
  },
  {
   "cell_type": "code",
   "execution_count": 79,
   "metadata": {
    "colab": {
     "base_uri": "https://localhost:8080/"
    },
    "executionInfo": {
     "elapsed": 289,
     "status": "ok",
     "timestamp": 1693132010933,
     "user": {
      "displayName": "Anja Mühlemann",
      "userId": "13180139022750424409"
     },
     "user_tz": -120
    },
    "id": "7iHy2WtoECky",
    "outputId": "97364a79-4cae-41b9-a79b-05e3bdda2c74"
   },
   "outputs": [
    {
     "data": {
      "text/plain": [
       "WilcoxonResult(statistic=0.0, pvalue=1.7763568394002505e-15)"
      ]
     },
     "execution_count": 79,
     "metadata": {},
     "output_type": "execute_result"
    }
   ],
   "source": [
    "stats.wilcoxon(df_setosa['swidth'],df_setosa['slength'], alternative='two-sided')\n"
   ]
  },
  {
   "cell_type": "markdown",
   "metadata": {
    "id": "nkQ1cYVZECky"
   },
   "source": [
    "## 4.5 ANOVA tests (analysis of variance)\n",
    "\n",
    "Python stats module provides a one-way Anova test. The one-way ANOVA tests the null hypothesis that two or more groups have the same population mean (a generalisation of the t-test to more than two samples). The test is applied to samples from two or more groups, possibly with differing sizes.\n",
    "\n",
    "Please read the documentation about assumptions before using it:\n",
    "https://docs.scipy.org/doc/scipy/reference/generated/scipy.stats.f_oneway.html#scipy.stats.f_oneway"
   ]
  },
  {
   "cell_type": "code",
   "execution_count": 80,
   "metadata": {
    "colab": {
     "base_uri": "https://localhost:8080/"
    },
    "executionInfo": {
     "elapsed": 7,
     "status": "ok",
     "timestamp": 1693132010933,
     "user": {
      "displayName": "Anja Mühlemann",
      "userId": "13180139022750424409"
     },
     "user_tz": -120
    },
    "id": "6vkkgh2kECky",
    "outputId": "46288dc3-4bf3-4f06-a885-f1f40fd38e14"
   },
   "outputs": [
    {
     "data": {
      "text/plain": [
       "0.07117940263843624"
      ]
     },
     "execution_count": 80,
     "metadata": {},
     "output_type": "execute_result"
    }
   ],
   "source": [
    "f, p_value = stats.f_oneway(df_setosa['swidth'][0:10],df_setosa['swidth'][10:20],df_setosa['swidth'][20:30])\n",
    "p_value"
   ]
  },
  {
   "cell_type": "markdown",
   "metadata": {},
   "source": [
    "In this example one assumption is not fulfilled."
   ]
  },
  {
   "cell_type": "code",
   "execution_count": 81,
   "metadata": {
    "colab": {
     "base_uri": "https://localhost:8080/"
    },
    "executionInfo": {
     "elapsed": 6,
     "status": "ok",
     "timestamp": 1693132010933,
     "user": {
      "displayName": "Anja Mühlemann",
      "userId": "13180139022750424409"
     },
     "user_tz": -120
    },
    "id": "h0U1UVhkECky",
    "outputId": "aeb0f625-f551-43f6-f4e3-571f7eb79317"
   },
   "outputs": [
    {
     "data": {
      "text/plain": [
       "8.916634067006418e-09"
      ]
     },
     "execution_count": 81,
     "metadata": {},
     "output_type": "execute_result"
    }
   ],
   "source": [
    "f, p_value = stats.f_oneway(df_setosa['swidth'],df_virginica['swidth'])\n",
    "\n",
    "p_value"
   ]
  },
  {
   "cell_type": "markdown",
   "metadata": {
    "id": "qN96uM65ECkz"
   },
   "source": [
    "### Beyond one-way ANOVA\n",
    "\n",
    "There are examples and code for two-way, three-way and four-way etc ANOVA out there. We don't have the time to discuss them to practise them today. You can do this example if you like (maybe with Iris data):\n",
    "\n",
    "http://www.pybloggers.com/2016/03/three-ways-to-do-a-two-way-anova-with-python/"
   ]
  },
  {
   "cell_type": "code",
   "execution_count": 82,
   "metadata": {
    "executionInfo": {
     "elapsed": 5,
     "status": "ok",
     "timestamp": 1693132010934,
     "user": {
      "displayName": "Anja Mühlemann",
      "userId": "13180139022750424409"
     },
     "user_tz": -120
    },
    "id": "guP2gDUPECkz"
   },
   "outputs": [],
   "source": [
    "from statsmodels.stats.anova import anova_lm"
   ]
  },
  {
   "cell_type": "markdown",
   "metadata": {
    "id": "Uh73Gb3RECkz"
   },
   "source": [
    "## 4.5 Final words"
   ]
  },
  {
   "cell_type": "markdown",
   "metadata": {
    "id": "JfEVav5_ECk0"
   },
   "source": [
    "If you are in doubt about your results because you think you have too little data or strangely distributed data you should/could:\n",
    "\n",
    "- Check by using another tool and see if there are changes in the results\n",
    "- Manipulate your (test) data (by adding/changing artifical datapoints etc) and study the effect on the result\n",
    "\n",
    "In the end you should enable people to interprete your results in a correct way and come to the same conclusions as you. So your results should be reproducible within the uncertainties you state."
   ]
  }
 ],
 "metadata": {
  "colab": {
   "collapsed_sections": [
    "qZTVZlkGECki",
    "SYuEAGFGqHWg",
    "rAZdi_FzECks",
    "yvWT7ZE0ECks",
    "oKEUj5LPECkw",
    "E8CakeRIECkx",
    "qN96uM65ECkz"
   ],
   "provenance": []
  },
  "kernelspec": {
   "display_name": "Python 3 (ipykernel)",
   "language": "python",
   "name": "python3"
  },
  "language_info": {
   "codemirror_mode": {
    "name": "ipython",
    "version": 3
   },
   "file_extension": ".py",
   "mimetype": "text/x-python",
   "name": "python",
   "nbconvert_exporter": "python",
   "pygments_lexer": "ipython3",
   "version": "3.11.4"
  }
 },
 "nbformat": 4,
 "nbformat_minor": 1
}
